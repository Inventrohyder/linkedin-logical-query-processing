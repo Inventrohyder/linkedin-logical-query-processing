{
 "cells": [
  {
   "cell_type": "markdown",
   "metadata": {},
   "source": [
    "# Advanced SQL Logical Query Processing - Part 1 "
   ]
  },
  {
   "cell_type": "markdown",
   "metadata": {},
   "source": [
    "## Setup"
   ]
  },
  {
   "cell_type": "code",
   "execution_count": 1,
   "metadata": {},
   "outputs": [],
   "source": [
    "# Load SQL extension\n",
    "%load_ext sql"
   ]
  },
  {
   "cell_type": "code",
   "execution_count": 2,
   "metadata": {},
   "outputs": [
    {
     "name": "stdout",
     "output_type": "stream",
     "text": [
      "CREATE DATABASE\n",
      "psql:./Demo Database/PostgreSQL.sql:13: ERROR:  schema \"reference\" already exists\n",
      "psql:./Demo Database/PostgreSQL.sql:20: ERROR:  relation \"colors\" already exists\n",
      "psql:./Demo Database/PostgreSQL.sql:23: ERROR:  duplicate key value violates unique constraint \"colors_pkey\"\n",
      "DETAIL:  Key (color)=(Black) already exists.\n",
      "psql:./Demo Database/PostgreSQL.sql:30: ERROR:  relation \"species\" already exists\n",
      "psql:./Demo Database/PostgreSQL.sql:33: ERROR:  duplicate key value violates unique constraint \"species_pkey\"\n",
      "DETAIL:  Key (species)=(Cat) already exists.\n",
      "psql:./Demo Database/PostgreSQL.sql:52: ERROR:  relation \"animals\" already exists\n",
      "psql:./Demo Database/PostgreSQL.sql:154: ERROR:  duplicate key value violates unique constraint \"animals_pkey\"\n",
      "DETAIL:  Key (name, species)=(Abby, Dog) already exists.\n",
      "psql:./Demo Database/PostgreSQL.sql:168: ERROR:  relation \"persons\" already exists\n",
      "psql:./Demo Database/PostgreSQL.sql:290: ERROR:  duplicate key value violates unique constraint \"persons_pkey\"\n",
      "DETAIL:  Key (email)=(adam.brown@gmail.com) already exists.\n",
      "psql:./Demo Database/PostgreSQL.sql:299: ERROR:  relation \"staff\" already exists\n",
      "psql:./Demo Database/PostgreSQL.sql:310: ERROR:  duplicate key value violates unique constraint \"staff_pkey\"\n",
      "DETAIL:  Key (email)=(ashley.flores@animalshelter.com) already exists.\n",
      "psql:./Demo Database/PostgreSQL.sql:316: ERROR:  relation \"staff_roles\" already exists\n",
      "psql:./Demo Database/PostgreSQL.sql:323: ERROR:  duplicate key value violates unique constraint \"staff_roles_pkey\"\n",
      "DETAIL:  Key (role)=(Assistant) already exists.\n",
      "psql:./Demo Database/PostgreSQL.sql:334: ERROR:  relation \"staff_assignments\" already exists\n",
      "psql:./Demo Database/PostgreSQL.sql:345: ERROR:  duplicate key value violates unique constraint \"staff_assignments_pkey\"\n",
      "DETAIL:  Key (email, role)=(ashley.flores@animalshelter.com, Veterinarian) already exists.\n",
      "psql:./Demo Database/PostgreSQL.sql:360: ERROR:  relation \"adoptions\" already exists\n",
      "psql:./Demo Database/PostgreSQL.sql:432: ERROR:  duplicate key value violates unique constraint \"adoptions_pkey\"\n",
      "DETAIL:  Key (name, species, adopter_email)=(Abby, Dog, patrick.hughes@animalshelter.com) already exists.\n",
      "psql:./Demo Database/PostgreSQL.sql:447: ERROR:  relation \"vaccinations\" already exists\n",
      "psql:./Demo Database/PostgreSQL.sql:544: ERROR:  duplicate key value violates unique constraint \"vaccinations_pkey\"\n",
      "DETAIL:  Key (name, species, vaccine, vaccination_time)=(Abby, Dog, Distemper Virus, 2017-04-19 09:01:00) already exists.\n"
     ]
    }
   ],
   "source": [
    "# Create the database and set it up\n",
    "!psql -f ./Demo\\ Database/PostgreSQL.sql"
   ]
  },
  {
   "cell_type": "code",
   "execution_count": 3,
   "metadata": {},
   "outputs": [
    {
     "data": {
      "text/plain": [
       "'Connected: @animal_shelter'"
      ]
     },
     "execution_count": 3,
     "metadata": {},
     "output_type": "execute_result"
    }
   ],
   "source": [
    "# Connect to the database\n",
    "%sql postgresql://localhost/animal_shelter"
   ]
  }
 ],
 "metadata": {
  "interpreter": {
   "hash": "81772a7c0e98eb8fee45715c2483ee5fda639017dd99783d1d5b2d8b64b780a5"
  },
  "kernelspec": {
   "display_name": "Python 3.10.2 ('dand')",
   "language": "python",
   "name": "python3"
  },
  "language_info": {
   "codemirror_mode": {
    "name": "ipython",
    "version": 3
   },
   "file_extension": ".py",
   "mimetype": "text/x-python",
   "name": "python",
   "nbconvert_exporter": "python",
   "pygments_lexer": "ipython3",
   "version": "3.10.2"
  },
  "orig_nbformat": 4
 },
 "nbformat": 4,
 "nbformat_minor": 2
}
