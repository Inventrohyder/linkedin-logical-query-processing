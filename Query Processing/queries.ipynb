{
 "cells": [
  {
   "cell_type": "markdown",
   "metadata": {},
   "source": [
    "# Advanced SQL Logical Query Processing - Part 1 "
   ]
  },
  {
   "cell_type": "markdown",
   "metadata": {},
   "source": [
    "## Setup"
   ]
  },
  {
   "cell_type": "code",
   "execution_count": 1,
   "metadata": {},
   "outputs": [],
   "source": [
    "# Load SQL extension\n",
    "%load_ext sql"
   ]
  },
  {
   "cell_type": "code",
   "execution_count": 2,
   "metadata": {},
   "outputs": [],
   "source": [
    "# Create the database\n",
    "!createdb animal_shelter"
   ]
  },
  {
   "cell_type": "code",
   "execution_count": 3,
   "metadata": {},
   "outputs": [
    {
     "name": "stdout",
     "output_type": "stream",
     "text": [
      "ERROR:  database \"animal_shelter\" already exists\n",
      "CREATE SCHEMA\n",
      "CREATE TABLE\n",
      "INSERT 0 6\n",
      "CREATE TABLE\n",
      "INSERT 0 5\n",
      "CREATE TABLE\n",
      "INSERT 0 100\n",
      "CREATE TABLE\n",
      "INSERT 0 120\n",
      "CREATE TABLE\n",
      "INSERT 0 9\n",
      "CREATE TABLE\n",
      "INSERT 0 5\n",
      "CREATE TABLE\n",
      "INSERT 0 9\n",
      "CREATE TABLE\n",
      "INSERT 0 70\n",
      "CREATE TABLE\n",
      "INSERT 0 95\n"
     ]
    }
   ],
   "source": [
    "# Set up the database\n",
    "!psql animal_shelter < ./Demo\\ Database/PostgreSQL.sql"
   ]
  },
  {
   "cell_type": "code",
   "execution_count": 4,
   "metadata": {},
   "outputs": [
    {
     "data": {
      "text/plain": [
       "'Connected: @animal_shelter'"
      ]
     },
     "execution_count": 4,
     "metadata": {},
     "output_type": "execute_result"
    }
   ],
   "source": [
    "# Connect to the database\n",
    "%sql postgresql://localhost/animal_shelter"
   ]
  }
 ],
 "metadata": {
  "interpreter": {
   "hash": "81772a7c0e98eb8fee45715c2483ee5fda639017dd99783d1d5b2d8b64b780a5"
  },
  "kernelspec": {
   "display_name": "Python 3 (ipykernel)",
   "language": "python",
   "name": "python3"
  },
  "language_info": {
   "codemirror_mode": {
    "name": "ipython",
    "version": 3
   },
   "file_extension": ".py",
   "mimetype": "text/x-python",
   "name": "python",
   "nbconvert_exporter": "python",
   "pygments_lexer": "ipython3",
   "version": "3.10.2"
  }
 },
 "nbformat": 4,
 "nbformat_minor": 4
}
